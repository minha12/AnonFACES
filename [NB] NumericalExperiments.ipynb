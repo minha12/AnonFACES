{
 "cells": [
  {
   "cell_type": "markdown",
   "metadata": {},
   "source": [
    "# Introduction\n",
    "\n",
    "In this notebook, all experiments on this project will be demonstrated. First, an evaluation of information loss (IL) and re-identification (RI) metric will be run. Second, a single k value is chosen with a corresponding partitioning algorithm and a embedding method to show box-plot and average pair-wise distance results. Third, different versions of AnonFACES will be evaluated. \n",
    "\n",
    "Two dataset will be chosen, the first one is RafD dataset with only 67 identities. The second one is a sample CelebA with 979 identities. Note that we only chose a sample of CelebA mainly due to running time, we are not going to evaluate with a range of k values running in the whole dataset of CelebA with 10177 identies since it would require significant higher waiting time."
   ]
  },
  {
   "cell_type": "code",
   "execution_count": null,
   "metadata": {
    "ExecuteTime": {
     "end_time": "2020-07-28T08:59:21.333673Z",
     "start_time": "2020-07-28T08:58:43.180437Z"
    }
   },
   "outputs": [],
   "source": [
    "#Load important modules\n",
    "%load_ext autoreload\n",
    "%autoreload 2\n",
    "\n",
    "import utils\n",
    "import numpy as np\n",
    "import pickle\n",
    "import pandas as pd\n",
    "\n",
    "import partitioning\n",
    "import anonymizer\n"
   ]
  },
  {
   "cell_type": "markdown",
   "metadata": {},
   "source": [
    "# IL and RI evaluations\n",
    "\n",
    "There are three seperate experiment in this section, including:\n",
    "- Embbeding evaluation: Dlib, FaceNet and AAM\n",
    "- Partitioning evaluation: Hierachical Partitioning (HP), k-Mean Partitioning, k-NN Partitioning.\n",
    "- Generator evaluation: StyleGAN, CNN, AAM"
   ]
  },
  {
   "cell_type": "code",
   "execution_count": null,
   "metadata": {
    "ExecuteTime": {
     "end_time": "2020-07-28T09:02:47.560710Z",
     "start_time": "2020-07-28T09:02:02.677018Z"
    }
   },
   "outputs": [],
   "source": [
    "#Load the embbeds \n",
    "raw_dlib, data_dlib = utils.load_pickle('datasets/encoding_data/dlib_celeba_979.pickle')\n",
    "raw_pca, data_pca = utils.load_pickle('datasets/encoding_data/pca_celeba_979.pickle')\n",
    "raw_facenet, data_facenet = utils.load_pickle('datasets/encoding_data/facenet_celeba_979.pickle')\n",
    "\n",
    "#Load latent vectors for StyleGAN\n",
    "latent_vecs = utils.get_vectornames('datasets/stylegan_data/latent_vectors/', raw_dlib)\n",
    "\n",
    "#Load StyleGAN \n",
    "generator_network, _, _ = anonymizer.styleGan.load_styleGan()\n",
    "\n",
    "#K values\n",
    "k_values = range(2,20)"
   ]
  },
  {
   "cell_type": "code",
   "execution_count": 16,
   "metadata": {
    "ExecuteTime": {
     "end_time": "2020-07-27T14:08:40.938640Z",
     "start_time": "2020-07-27T14:08:40.898068Z"
    }
   },
   "outputs": [],
   "source": [
    "#Prepare for results\n",
    "IL_results = pd.DataFrame({'k': k_values})\n",
    "RI_results = pd.DataFrame({'k': k_values})"
   ]
  },
  {
   "cell_type": "markdown",
   "metadata": {},
   "source": [
    "## Embbeding evaluation\n",
    "This experiment will be carried on the sample of CelebA with HP algorithm and StyleGAN generator. With each embbeding, k value will be vary in range(2,20)."
   ]
  },
  {
   "cell_type": "code",
   "execution_count": null,
   "metadata": {
    "ExecuteTime": {
     "end_time": "2020-07-27T15:22:12.685959Z",
     "start_time": "2020-07-27T14:09:37.212234Z"
    }
   },
   "outputs": [],
   "source": [
    "#Dlib\n",
    "ILs, RIs = anonymizer.styleGan.evaluate_styleGan(  latent_vecs, \n",
    "                                                   data_dlib, \n",
    "                                                   raw_dlib, \n",
    "                                                   generator_network, \n",
    "                                                   k_range=k_values, \n",
    "                                                   isBackward=False,\n",
    "                                                   isAdjustWeight=True\n",
    "                                                )\n",
    "IL_results['hier_dlib_adjust'] = ILs\n",
    "RI_results['hier_dlib_adjust'] = RIs\n",
    "\n",
    "#FaceNet\n",
    "ILs, RIs = anonymizer.styleGan.evaluate_styleGan(  latent_vecs, \n",
    "                                                   data_dlib, \n",
    "                                                   raw_dlib, \n",
    "                                                   generator_network, \n",
    "                                                   clt_data= data_facenet,\n",
    "                                                   k_range=k_values, \n",
    "                                                   isBackward=False,\n",
    "                                                   isAdjustWeight=True\n",
    "                                                )\n",
    "IL_results['hier_facenet_adjust'] = ILs\n",
    "RI_results['hier_facenet_adjust'] = RIs\n",
    "\n",
    "#PCA\n",
    "ILs, RIs = anonymizer.styleGan.evaluate_styleGan(  latent_vecs, \n",
    "                                                   data_dlib, \n",
    "                                                   raw_dlib, \n",
    "                                                   generator_network, \n",
    "                                                   clt_data= data_pca,\n",
    "                                                   k_range=k_values, \n",
    "                                                   isBackward=False,\n",
    "                                                   isAdjustWeight=True\n",
    "                                                )\n",
    "IL_results['hier_pca_adjust'] = ILs\n",
    "RI_results['hier_pca_adjust'] = RIs\n",
    "\n",
    "# Save result\n",
    "IL_results.to_pickle('Outputs/IL_results.pickle')\n",
    "RI_results.to_pickle('Outputs/RI_results.pickle')"
   ]
  },
  {
   "cell_type": "markdown",
   "metadata": {},
   "source": [
    "## Partitioning algorithm evaluation\n",
    "In this experiment, Dlib embedding and StyleGAN generator will be chosen. Two test will be conducted with k-Mean and k-NN partitioning algorithm (the test with HP have already done above)"
   ]
  },
  {
   "cell_type": "code",
   "execution_count": null,
   "metadata": {
    "ExecuteTime": {
     "end_time": "2020-07-27T16:13:26.000525Z",
     "start_time": "2020-07-27T15:30:54.567783Z"
    }
   },
   "outputs": [],
   "source": [
    "\n",
    "#FaceNet\n",
    "ILs, RIs = anonymizer.styleGan.evaluate_styleGan(  latent_vecs, \n",
    "                                                   data_dlib, \n",
    "                                                   raw_dlib, \n",
    "                                                   generator_network, \n",
    "                                                   clustering=partitioning.kmeans_partition,\n",
    "                                                   k_range=k_values, \n",
    "                                                   isBackward=False,\n",
    "                                                   isAdjustWeight=True\n",
    "                                                )\n",
    "IL_results['kmeans_dlib_adjust'] = ILs\n",
    "RI_results['kmeans_dlib_adjust'] = RIs\n",
    "\n",
    "#PCA\n",
    "ILs, RIs = anonymizer.styleGan.evaluate_styleGan(  latent_vecs, \n",
    "                                                   data_dlib, \n",
    "                                                   raw_dlib, \n",
    "                                                   generator_network, \n",
    "                                                   clustering=partitioning.kNN_partition,\n",
    "                                                   k_range=k_values, \n",
    "                                                   isBackward=False,\n",
    "                                                   isAdjustWeight=True\n",
    "                                                )\n",
    "IL_results['knn_dlib_adjust'] = ILs\n",
    "RI_results['knn_dlib_adjust'] = RIs\n",
    "\n",
    "# Save result\n",
    "IL_results.to_pickle('Outputs/IL_results.pickle')\n",
    "RI_results.to_pickle('Outputs/RI_results.pickle')"
   ]
  },
  {
   "cell_type": "markdown",
   "metadata": {},
   "source": [
    "## Generator evaluation\n",
    "Three generators will be compared on RafD dataset. The reason for choosing this dataset is that the CNN has been trained on it and the training code is relatively difficult to modify for another dataset. In this experiment, Dlib embedding and HP partitioning will be used. "
   ]
  },
  {
   "cell_type": "code",
   "execution_count": null,
   "metadata": {
    "ExecuteTime": {
     "end_time": "2020-07-27T16:53:01.527960Z",
     "start_time": "2020-07-27T16:48:01.702312Z"
    }
   },
   "outputs": [],
   "source": [
    "# Load latent vectors for RafD dataset\n",
    "rafd_latents = 'datasets/stylegan_data/latent_vectors_rafd/'\n",
    "\n",
    "#Load embbedings for RafD dataset\n",
    "raw_data, data = utils.load_pickle('datasets/encoding_data/encodings.pickle')\n",
    "\n",
    "# StyleGAN\n",
    "ILs, RIs = anonymizer.styleGan.evaluate_styleGan(rafd_latents, \n",
    "                                                       data, \n",
    "                                                       raw_data, \n",
    "                                                       generator_network, \n",
    "                                                       k_range=k_values, \n",
    "                                                       isBackward=True,\n",
    "                                                       isAdjustWeight=True\n",
    "                                                      )\n",
    "IL_results['stylegan_rafd'] = ILs\n",
    "RI_results['stylegan_rafd'] = RIs\n",
    "\n",
    "#CNN\n",
    "ILs, RIs = anonymizer.cnn.evaluate_cnn(data, raw_data, k_range=k_values)\n",
    "IL_results['cnn_rafd'] = ILs\n",
    "RI_results['cnn_rafd'] = RIs\n",
    "\n",
    "# Save result\n",
    "IL_results.to_pickle('Outputs/IL_results.pickle')\n",
    "RI_results.to_pickle('Outputs/RI_results.pickle')"
   ]
  },
  {
   "cell_type": "markdown",
   "metadata": {},
   "source": [
    "The AAM generator has different dependent packages, its results have been run on another Notebook (folder /related_works/k-same-m/). Here we only load the results."
   ]
  },
  {
   "cell_type": "code",
   "execution_count": 29,
   "metadata": {
    "ExecuteTime": {
     "end_time": "2020-07-27T17:01:24.072554Z",
     "start_time": "2020-07-27T17:01:24.004118Z"
    }
   },
   "outputs": [],
   "source": [
    "aam_results = pd.read_pickle('related_works/k-same-m/k_same_m_k20.pkl')\n",
    "IL_results['aam_rafd'] = aam_results['IL']\n",
    "RI_results['aam_rafd'] = aam_results['FailProb']\n",
    "# Save result\n",
    "IL_results.to_pickle('Outputs/IL_results.pickle')\n",
    "RI_results.to_pickle('Outputs/RI_results.pickle')"
   ]
  },
  {
   "cell_type": "markdown",
   "metadata": {},
   "source": [
    "# Pair-wise distance evaluation\n",
    "Based on the IL metric, it is possible to calculate the pair-wise distance between original and anonymized images. Given a k value (k=5), this experiment is conducted on a sample of CelebA dataset. This instance of AnonFACES includes Dlib embbeding, HP partitioning and StyleGAN generator. "
   ]
  },
  {
   "cell_type": "code",
   "execution_count": null,
   "metadata": {
    "ExecuteTime": {
     "end_time": "2020-07-28T09:18:30.533452Z",
     "start_time": "2020-07-28T09:17:00.031026Z"
    }
   },
   "outputs": [],
   "source": [
    "# Do clustering\n",
    "k_value = 5\n",
    "clusters = partitioning.hierarchical_partition(data_dlib, cluster_size= k_value)\n",
    "\n",
    "# Syntherize new images for clusters\n",
    "avg_dist, pair_wise_dists,_, label_list,_, _ = anonymizer.styleGan.cluster_gen(latent_vecs, clusters, data_dlib, raw_dlib, \n",
    "                                                            generator_network,\n",
    "                                                            isAdjustWeight=True,\n",
    "                                                            isBackward=False,\n",
    "                                                            k=k_value\n",
    "                                                           )\n",
    "\n",
    "# Save results\n",
    "with open('Outputs/pair_wise_dists_k5.pickle', 'wb') as f: \n",
    "    pickle.dump(pair_wise_dists, f)\n",
    "avg_per_cluster = pd.DataFrame({'label': label_list, 'avg_dist': avg_dist})\n",
    "avg_per_cluster.to_pickle('Outputs/avg_per_cluster_k5.pickle')"
   ]
  },
  {
   "cell_type": "markdown",
   "metadata": {},
   "source": [
    "# AnonFACES versions\n",
    "Different versions of AnonFACES will be evaluated. There are two on-off switches to set: isAdjustedWeight and isRandWeight. In total, there would be four combinations to test, however, clasifying based on security level we will have three test cases.The first option (called Naive) in which both of the switches turned off, the second option (called Weight Adjusted) in which only isAdjustedWeight is turned on and the last option (called Random Weight) where both of the switches turned on. As a default option, Dlib embbeding, HP partitioning and StyleGAN generator will be used."
   ]
  },
  {
   "cell_type": "code",
   "execution_count": null,
   "metadata": {
    "ExecuteTime": {
     "end_time": "2020-07-28T14:13:20.419728Z",
     "start_time": "2020-07-28T12:02:01.130616Z"
    }
   },
   "outputs": [],
   "source": [
    "AnonFACES_ILs = pd.DataFrame({'k': k_values})\n",
    "AnonFACES_RIs = pd.DataFrame({'k': k_values})\n",
    "# Naive\n",
    "ILs, RIs = anonymizer.styleGan.evaluate_styleGan(  latent_vecs, \n",
    "                                                   data_dlib, \n",
    "                                                   raw_dlib, \n",
    "                                                   generator_network, \n",
    "                                                   k_range=k_values, \n",
    "                                                   isBackward=False,\n",
    "                                                )\n",
    "AnonFACES_ILs['Naive'] = ILs\n",
    "AnonFACES_RIs['Naive'] = RIs\n",
    "\n",
    "# Weight Adjusted \n",
    "ILs, RIs = anonymizer.styleGan.evaluate_styleGan(  latent_vecs, \n",
    "                                                   data_dlib, \n",
    "                                                   raw_dlib, \n",
    "                                                   generator_network, \n",
    "                                                   k_range=k_values, \n",
    "                                                   isBackward=False,\n",
    "                                                   isAdjustWeight=True\n",
    "                                                )\n",
    "AnonFACES_ILs['Weight Adjusted'] = ILs\n",
    "AnonFACES_RIs['Weight Adjusted'] = RIs\n",
    "\n",
    "# Random Weight\n",
    "ILs, RIs = anonymizer.styleGan.evaluate_styleGan(  latent_vecs, \n",
    "                                                   data_dlib, \n",
    "                                                   raw_dlib, \n",
    "                                                   generator_network, \n",
    "                                                   k_range=k_values, \n",
    "                                                   isBackward=False,\n",
    "                                                   alpha=1.67,\n",
    "                                                   isAdjustWeight=True,\n",
    "                                                   isRandWeight=True\n",
    "                                                )\n",
    "AnonFACES_ILs['Random Weight'] = ILs\n",
    "AnonFACES_RIs['Random Weight'] = RIs\n",
    "\n",
    "#Save results\n",
    "AnonFACES_ILs.to_pickle('Outputs/AnonFACES_ILs.pickle')\n",
    "AnonFACES_RIs.to_pickle('Outputs/AnonFACES_RIs.pickle')"
   ]
  }
 ],
 "metadata": {
  "kernelspec": {
   "display_name": "Python 3",
   "language": "python",
   "name": "python3"
  },
  "language_info": {
   "codemirror_mode": {
    "name": "ipython",
    "version": 3
   },
   "file_extension": ".py",
   "mimetype": "text/x-python",
   "name": "python",
   "nbconvert_exporter": "python",
   "pygments_lexer": "ipython3",
   "version": "3.7.7"
  },
  "toc": {
   "base_numbering": 1,
   "nav_menu": {},
   "number_sections": true,
   "sideBar": true,
   "skip_h1_title": false,
   "title_cell": "Table of Contents",
   "title_sidebar": "Contents",
   "toc_cell": false,
   "toc_position": {},
   "toc_section_display": true,
   "toc_window_display": false
  }
 },
 "nbformat": 4,
 "nbformat_minor": 4
}
